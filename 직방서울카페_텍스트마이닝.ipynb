{
 "cells": [
  {
   "cell_type": "code",
   "execution_count": 1,
   "id": "ebb40ac7",
   "metadata": {},
   "outputs": [],
   "source": [
    "import warnings\n",
    "\n",
    "warnings.filterwarnings('ignore')"
   ]
  },
  {
   "cell_type": "code",
   "execution_count": 2,
   "id": "8e03e6a6",
   "metadata": {},
   "outputs": [],
   "source": [
    "import pandas as pd\n",
    "import numpy as np\n",
    "\n",
    "data_df = pd.read_csv('/Users/calmpy/Desktop/2022 2학기 맥북/data_crawling/data/zigbang_seoul_cafe.csv', header=0, engine='python')\n"
   ]
  },
  {
   "cell_type": "code",
   "execution_count": 3,
   "id": "80998087",
   "metadata": {},
   "outputs": [
    {
     "name": "stdout",
     "output_type": "stream",
     "text": [
      "데이터셋 크기 :  (1837, 14)\n"
     ]
    },
    {
     "data": {
      "text/html": [
       "<div>\n",
       "<style scoped>\n",
       "    .dataframe tbody tr th:only-of-type {\n",
       "        vertical-align: middle;\n",
       "    }\n",
       "\n",
       "    .dataframe tbody tr th {\n",
       "        vertical-align: top;\n",
       "    }\n",
       "\n",
       "    .dataframe thead th {\n",
       "        text-align: right;\n",
       "    }\n",
       "</style>\n",
       "<table border=\"1\" class=\"dataframe\">\n",
       "  <thead>\n",
       "    <tr style=\"text-align: right;\">\n",
       "      <th></th>\n",
       "      <th>Unnamed: 0</th>\n",
       "      <th>매물이름</th>\n",
       "      <th>보증금액</th>\n",
       "      <th>월세금액</th>\n",
       "      <th>관리금액</th>\n",
       "      <th>권리금</th>\n",
       "      <th>시</th>\n",
       "      <th>구</th>\n",
       "      <th>동</th>\n",
       "      <th>층</th>\n",
       "      <th>면적</th>\n",
       "      <th>인테리어</th>\n",
       "      <th>설명</th>\n",
       "      <th>엘레베이터</th>\n",
       "    </tr>\n",
       "  </thead>\n",
       "  <tbody>\n",
       "    <tr>\n",
       "      <th>0</th>\n",
       "      <td>0</td>\n",
       "      <td>신양초교 사거리  유명커피,프렌차이즈 20평 점포</td>\n",
       "      <td>2000</td>\n",
       "      <td>230</td>\n",
       "      <td>10</td>\n",
       "      <td>20000</td>\n",
       "      <td>서울특별시</td>\n",
       "      <td>광진구</td>\n",
       "      <td>자양동</td>\n",
       "      <td>1층</td>\n",
       "      <td>66.08</td>\n",
       "      <td>없음</td>\n",
       "      <td>◈ 신양초교사거리  프렌차이즈 20p 상가(양수도)입니다.\\n     매출 좋고 위...</td>\n",
       "      <td>없음</td>\n",
       "    </tr>\n",
       "    <tr>\n",
       "      <th>1</th>\n",
       "      <td>1</td>\n",
       "      <td>역세권 상권, 유동인구 많은 삼전동 카페</td>\n",
       "      <td>1000</td>\n",
       "      <td>60</td>\n",
       "      <td>3</td>\n",
       "      <td>1500</td>\n",
       "      <td>서울특별시</td>\n",
       "      <td>송파구</td>\n",
       "      <td>삼전동</td>\n",
       "      <td>1층</td>\n",
       "      <td>23.14</td>\n",
       "      <td>없음</td>\n",
       "      <td>주변에 비해 월세 관리비가 저렴한 매장입니다. 삼전 역에서 도보로 3분 거리에 위치...</td>\n",
       "      <td>없음</td>\n",
       "    </tr>\n",
       "    <tr>\n",
       "      <th>2</th>\n",
       "      <td>2</td>\n",
       "      <td>대로변 1층, 주목도 높은 능동 카페 상가</td>\n",
       "      <td>5000</td>\n",
       "      <td>175</td>\n",
       "      <td>0</td>\n",
       "      <td>10000</td>\n",
       "      <td>서울특별시</td>\n",
       "      <td>광진구</td>\n",
       "      <td>능동</td>\n",
       "      <td>1층</td>\n",
       "      <td>19.83</td>\n",
       "      <td>없음</td>\n",
       "      <td>매장이 아담해서 인건비 없이 혼자 운영하시는 분에게 추천드리는 점포입니다. 버스정류...</td>\n",
       "      <td>없음</td>\n",
       "    </tr>\n",
       "    <tr>\n",
       "      <th>3</th>\n",
       "      <td>3</td>\n",
       "      <td>모던 인테리어 완비된 자양동 카페 상가 점포</td>\n",
       "      <td>1000</td>\n",
       "      <td>90</td>\n",
       "      <td>5</td>\n",
       "      <td>2000</td>\n",
       "      <td>서울특별시</td>\n",
       "      <td>광진구</td>\n",
       "      <td>자양동</td>\n",
       "      <td>3층</td>\n",
       "      <td>66.12</td>\n",
       "      <td>없음</td>\n",
       "      <td>내부 인테리어가 잘 갖추어져 있어서 동종 업종을 하시는 경우 초창기 시간과 비용을 ...</td>\n",
       "      <td>없음</td>\n",
       "    </tr>\n",
       "    <tr>\n",
       "      <th>4</th>\n",
       "      <td>4</td>\n",
       "      <td>자양동 역세권 및 학세권, 유동인구 많은 카페</td>\n",
       "      <td>1000</td>\n",
       "      <td>75</td>\n",
       "      <td>0</td>\n",
       "      <td>2800</td>\n",
       "      <td>서울특별시</td>\n",
       "      <td>광진구</td>\n",
       "      <td>자양동</td>\n",
       "      <td>1층</td>\n",
       "      <td>33.06</td>\n",
       "      <td>없음</td>\n",
       "      <td>1층에 위치해 있어서 멀리서도 눈에 잘 띄어서 홍보 효과가 좋습니다. 주거지역에 위...</td>\n",
       "      <td>없음</td>\n",
       "    </tr>\n",
       "  </tbody>\n",
       "</table>\n",
       "</div>"
      ],
      "text/plain": [
       "   Unnamed: 0                         매물이름  보증금액  월세금액  관리금액    권리금      시  \\\n",
       "0           0  신양초교 사거리  유명커피,프렌차이즈 20평 점포  2000   230    10  20000  서울특별시   \n",
       "1           1       역세권 상권, 유동인구 많은 삼전동 카페  1000    60     3   1500  서울특별시   \n",
       "2           2      대로변 1층, 주목도 높은 능동 카페 상가  5000   175     0  10000  서울특별시   \n",
       "3           3     모던 인테리어 완비된 자양동 카페 상가 점포  1000    90     5   2000  서울특별시   \n",
       "4           4    자양동 역세권 및 학세권, 유동인구 많은 카페  1000    75     0   2800  서울특별시   \n",
       "\n",
       "     구    동   층     면적 인테리어  \\\n",
       "0  광진구  자양동  1층  66.08   없음   \n",
       "1  송파구  삼전동  1층  23.14   없음   \n",
       "2  광진구   능동  1층  19.83   없음   \n",
       "3  광진구  자양동  3층  66.12   없음   \n",
       "4  광진구  자양동  1층  33.06   없음   \n",
       "\n",
       "                                                  설명 엘레베이터  \n",
       "0  ◈ 신양초교사거리  프렌차이즈 20p 상가(양수도)입니다.\\n     매출 좋고 위...    없음  \n",
       "1  주변에 비해 월세 관리비가 저렴한 매장입니다. 삼전 역에서 도보로 3분 거리에 위치...    없음  \n",
       "2  매장이 아담해서 인건비 없이 혼자 운영하시는 분에게 추천드리는 점포입니다. 버스정류...    없음  \n",
       "3  내부 인테리어가 잘 갖추어져 있어서 동종 업종을 하시는 경우 초창기 시간과 비용을 ...    없음  \n",
       "4  1층에 위치해 있어서 멀리서도 눈에 잘 띄어서 홍보 효과가 좋습니다. 주거지역에 위...    없음  "
      ]
     },
     "execution_count": 3,
     "metadata": {},
     "output_type": "execute_result"
    }
   ],
   "source": [
    "print('데이터셋 크기 : ', data_df.shape)\n",
    "\n",
    "data_df.head()"
   ]
  },
  {
   "cell_type": "code",
   "execution_count": 4,
   "id": "10d94da3",
   "metadata": {},
   "outputs": [
    {
     "data": {
      "text/html": [
       "<div>\n",
       "<style scoped>\n",
       "    .dataframe tbody tr th:only-of-type {\n",
       "        vertical-align: middle;\n",
       "    }\n",
       "\n",
       "    .dataframe tbody tr th {\n",
       "        vertical-align: top;\n",
       "    }\n",
       "\n",
       "    .dataframe thead th {\n",
       "        text-align: right;\n",
       "    }\n",
       "</style>\n",
       "<table border=\"1\" class=\"dataframe\">\n",
       "  <thead>\n",
       "    <tr style=\"text-align: right;\">\n",
       "      <th></th>\n",
       "      <th>Unnamed: 0</th>\n",
       "      <th>설명</th>\n",
       "    </tr>\n",
       "  </thead>\n",
       "  <tbody>\n",
       "    <tr>\n",
       "      <th>0</th>\n",
       "      <td>0</td>\n",
       "      <td>◈ 신양초교사거리  프렌차이즈 20p 상가(양수도)입니다.\\n     매출 좋고 위...</td>\n",
       "    </tr>\n",
       "    <tr>\n",
       "      <th>1</th>\n",
       "      <td>1</td>\n",
       "      <td>주변에 비해 월세 관리비가 저렴한 매장입니다. 삼전 역에서 도보로 3분 거리에 위치...</td>\n",
       "    </tr>\n",
       "    <tr>\n",
       "      <th>2</th>\n",
       "      <td>2</td>\n",
       "      <td>매장이 아담해서 인건비 없이 혼자 운영하시는 분에게 추천드리는 점포입니다. 버스정류...</td>\n",
       "    </tr>\n",
       "    <tr>\n",
       "      <th>3</th>\n",
       "      <td>3</td>\n",
       "      <td>내부 인테리어가 잘 갖추어져 있어서 동종 업종을 하시는 경우 초창기 시간과 비용을 ...</td>\n",
       "    </tr>\n",
       "    <tr>\n",
       "      <th>4</th>\n",
       "      <td>4</td>\n",
       "      <td>1층에 위치해 있어서 멀리서도 눈에 잘 띄어서 홍보 효과가 좋습니다. 주거지역에 위...</td>\n",
       "    </tr>\n",
       "  </tbody>\n",
       "</table>\n",
       "</div>"
      ],
      "text/plain": [
       "   Unnamed: 0                                                 설명\n",
       "0           0  ◈ 신양초교사거리  프렌차이즈 20p 상가(양수도)입니다.\\n     매출 좋고 위...\n",
       "1           1  주변에 비해 월세 관리비가 저렴한 매장입니다. 삼전 역에서 도보로 3분 거리에 위치...\n",
       "2           2  매장이 아담해서 인건비 없이 혼자 운영하시는 분에게 추천드리는 점포입니다. 버스정류...\n",
       "3           3  내부 인테리어가 잘 갖추어져 있어서 동종 업종을 하시는 경우 초창기 시간과 비용을 ...\n",
       "4           4  1층에 위치해 있어서 멀리서도 눈에 잘 띄어서 홍보 효과가 좋습니다. 주거지역에 위..."
      ]
     },
     "execution_count": 4,
     "metadata": {},
     "output_type": "execute_result"
    }
   ],
   "source": [
    "data_df = data_df.drop(['매물이름','보증금액','월세금액','관리금액','권리금','시','구','동','층','면적','인테리어','엘레베이터'], axis=1, inplace=False)\n",
    "data_df.head()"
   ]
  },
  {
   "cell_type": "code",
   "execution_count": 5,
   "id": "be78879b",
   "metadata": {},
   "outputs": [
    {
     "data": {
      "text/html": [
       "<div>\n",
       "<style scoped>\n",
       "    .dataframe tbody tr th:only-of-type {\n",
       "        vertical-align: middle;\n",
       "    }\n",
       "\n",
       "    .dataframe tbody tr th {\n",
       "        vertical-align: top;\n",
       "    }\n",
       "\n",
       "    .dataframe thead th {\n",
       "        text-align: right;\n",
       "    }\n",
       "</style>\n",
       "<table border=\"1\" class=\"dataframe\">\n",
       "  <thead>\n",
       "    <tr style=\"text-align: right;\">\n",
       "      <th></th>\n",
       "      <th>Unnamed: 0</th>\n",
       "      <th>설명</th>\n",
       "    </tr>\n",
       "  </thead>\n",
       "  <tbody>\n",
       "    <tr>\n",
       "      <th>0</th>\n",
       "      <td>0</td>\n",
       "      <td>신양초교사거리  프렌차이즈   상가 양수도 입니다      매출 좋고 위치 좋은...</td>\n",
       "    </tr>\n",
       "    <tr>\n",
       "      <th>1</th>\n",
       "      <td>1</td>\n",
       "      <td>주변에 비해 월세 관리비가 저렴한 매장입니다  삼전 역에서 도보로  분 거리에 위치...</td>\n",
       "    </tr>\n",
       "    <tr>\n",
       "      <th>2</th>\n",
       "      <td>2</td>\n",
       "      <td>매장이 아담해서 인건비 없이 혼자 운영하시는 분에게 추천드리는 점포입니다  버스정류...</td>\n",
       "    </tr>\n",
       "    <tr>\n",
       "      <th>3</th>\n",
       "      <td>3</td>\n",
       "      <td>내부 인테리어가 잘 갖추어져 있어서 동종 업종을 하시는 경우 초창기 시간과 비용을 ...</td>\n",
       "    </tr>\n",
       "    <tr>\n",
       "      <th>4</th>\n",
       "      <td>4</td>\n",
       "      <td>층에 위치해 있어서 멀리서도 눈에 잘 띄어서 홍보 효과가 좋습니다  주거지역에 위...</td>\n",
       "    </tr>\n",
       "  </tbody>\n",
       "</table>\n",
       "</div>"
      ],
      "text/plain": [
       "   Unnamed: 0                                                 설명\n",
       "0           0    신양초교사거리  프렌차이즈   상가 양수도 입니다      매출 좋고 위치 좋은...\n",
       "1           1  주변에 비해 월세 관리비가 저렴한 매장입니다  삼전 역에서 도보로  분 거리에 위치...\n",
       "2           2  매장이 아담해서 인건비 없이 혼자 운영하시는 분에게 추천드리는 점포입니다  버스정류...\n",
       "3           3  내부 인테리어가 잘 갖추어져 있어서 동종 업종을 하시는 경우 초창기 시간과 비용을 ...\n",
       "4           4   층에 위치해 있어서 멀리서도 눈에 잘 띄어서 홍보 효과가 좋습니다  주거지역에 위..."
      ]
     },
     "execution_count": 5,
     "metadata": {},
     "output_type": "execute_result"
    }
   ],
   "source": [
    "import re\n",
    "data_df['설명']= data_df['설명'].apply(lambda x : re.sub(r'[^ ㄱ-ㅣ가-힣]+',\" \",x))\n",
    "data_df.head()"
   ]
  },
  {
   "cell_type": "code",
   "execution_count": 6,
   "id": "7da842b7",
   "metadata": {},
   "outputs": [],
   "source": [
    "설명 = data_df['설명']"
   ]
  },
  {
   "cell_type": "code",
   "execution_count": 7,
   "id": "f98422af",
   "metadata": {},
   "outputs": [],
   "source": [
    "from konlpy.tag import Okt\n",
    "\n",
    "okt=Okt()\n",
    "설명_noun_tk = []\n",
    "\n",
    "for d in 설명:\n",
    "    설명_noun_tk.append(okt.nouns(d))"
   ]
  },
  {
   "cell_type": "code",
   "execution_count": 8,
   "id": "e0fbf9f2",
   "metadata": {},
   "outputs": [],
   "source": [
    "def okt_tokenizer(text):\n",
    "    tokens = okt.morphs(text)\n",
    "    return tokens"
   ]
  },
  {
   "cell_type": "code",
   "execution_count": 9,
   "id": "7e91bedc",
   "metadata": {},
   "outputs": [],
   "source": [
    "설명_noun_tk_join = []\n",
    "\n",
    "for d in 설명_noun_tk:\n",
    "    d2 = [w for w in d if len(w) >1] #길이가 1보다 큰 것만 추출 \n",
    "    설명_noun_tk_join.append(\" \".join(d2)) #토근을 연결(join)하여 리스트 구성"
   ]
  },
  {
   "cell_type": "code",
   "execution_count": 10,
   "id": "b45d2d96",
   "metadata": {},
   "outputs": [],
   "source": [
    "from sklearn.feature_extraction.text import TfidfVectorizer\n",
    "from sklearn.naive_bayes import MultinomialNB\n",
    "from sklearn.pipeline import make_pipeline"
   ]
  },
  {
   "cell_type": "code",
   "execution_count": 11,
   "id": "4d8563cf",
   "metadata": {},
   "outputs": [],
   "source": [
    "설명_tfidf=TfidfVectorizer(tokenizer = okt_tokenizer, min_df = 2)\n",
    "설명_dtm = 설명_tfidf.fit_transform(설명_noun_tk_join)"
   ]
  },
  {
   "cell_type": "code",
   "execution_count": 12,
   "id": "c9810e5c",
   "metadata": {},
   "outputs": [],
   "source": [
    "설명_vocab = dict()\n",
    "\n",
    "for idx, word in enumerate(설명_tfidf.get_feature_names()):\n",
    "    설명_vocab[word] = 설명_dtm.getcol(idx).sum()\n",
    "    \n",
    "설명_words = sorted(설명_vocab.items(), key=lambda x: x[1], reverse=True)"
   ]
  },
  {
   "cell_type": "code",
   "execution_count": 13,
   "id": "c613d12d",
   "metadata": {},
   "outputs": [
    {
     "data": {
      "image/png": "[encoded data removed]",
      "text/plain": [
       "<Figure size 640x480 with 1 Axes>"
      ]
     },
     "metadata": {},
     "output_type": "display_data"
    }
   ],
   "source": [
    "import matplotlib\n",
    "import matplotlib.pyplot as plt\n",
    "\n",
    "from matplotlib import font_manager, rc\n",
    "rc('font', family='AppleGothic')\n",
    "\n",
    "plt.rcParams['axes.unicode_minus'] = False\n",
    "# font_name = font_manager.FontProperties(fname=\"/System/Library/Fonts/Supplemental/AppleMyungjo.ttf\").get_name()\n",
    "\n",
    "max = 20\n",
    "plt.bar(range(max), [i[1] for i in 설명_words[:max]], color=\"brown\")\n",
    "plt.title(\"카페 설명글 단어 상위 %d개\" %max, fontsize=15)\n",
    "plt.xlabel(\"단어\", fontsize=12)\n",
    "plt.ylabel(\"TF-IDF의 합\", fontsize=12)\n",
    "plt.xticks(range(max), [i[0] for i in 설명_words[:max]], rotation=70)\n",
    "\n",
    "plt.show()"
   ]
  },
  {
   "cell_type": "markdown",
   "id": "4c3a5c4b",
   "metadata": {},
   "source": [
    "### "
   ]
  }
 ],
 "metadata": {
  "kernelspec": {
   "display_name": "Python 3 (ipykernel)",
   "language": "python",
   "name": "python3"
  },
  "language_info": {
   "codemirror_mode": {
    "name": "ipython",
    "version": 3
   },
   "file_extension": ".py",
   "mimetype": "text/x-python",
   "name": "python",
   "nbconvert_exporter": "python",
   "pygments_lexer": "ipython3",
   "version": "3.9.13"
  }
 },
 "nbformat": 4,
 "nbformat_minor": 5
}
